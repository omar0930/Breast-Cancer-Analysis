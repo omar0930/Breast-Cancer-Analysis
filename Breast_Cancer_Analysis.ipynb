{
 "cells": [
  {
   "cell_type": "markdown",
   "id": "97e58c8d",
   "metadata": {},
   "source": [
    "\n",
    "# Breast Cancer Analysis using Decision Tree Classifier\n",
    "\n",
    "This notebook demonstrates the process of loading a breast cancer dataset, training a decision tree classifier, and evaluating its performance. The analysis includes generating visualizations of the decision tree and the feature importance, as well as metrics like accuracy, precision, recall, and confusion matrix.\n",
    "\n",
    "### Steps involved:\n",
    "1. Load the breast cancer dataset\n",
    "2. Split the data into training and testing sets\n",
    "3. Train a decision tree classifier\n",
    "4. Evaluate the classifier\n",
    "5. Visualize the results\n"
   ]
  },
  {
   "cell_type": "code",
   "execution_count": null,
   "id": "f33ba08d",
   "metadata": {},
   "outputs": [],
   "source": [
    "\n",
    "from sklearn.datasets import load_breast_cancer\n",
    "from sklearn.model_selection import train_test_split\n",
    "import pandas as pd\n",
    "\n",
    "# Load the breast cancer dataset\n",
    "data = load_breast_cancer()\n",
    "dataset = pd.DataFrame(data=data['data'], columns=data['feature_names'])\n",
    "\n",
    "# Split the dataset into training and testing sets\n",
    "X = dataset.copy()\n",
    "y = data['target']\n",
    "X_train, X_test, y_train, y_test = train_test_split(X, y, test_size=0.33, random_state=42)\n",
    "\n",
    "# Display dataset information\n",
    "dataset.head()\n"
   ]
  },
  {
   "cell_type": "code",
   "execution_count": null,
   "id": "36cdcf3c",
   "metadata": {},
   "outputs": [],
   "source": [
    "\n",
    "from sklearn.tree import DecisionTreeClassifier\n",
    "\n",
    "# Train the decision tree classifier\n",
    "clf = DecisionTreeClassifier(ccp_alpha=0.01)\n",
    "clf = clf.fit(X_train, y_train)\n"
   ]
  },
  {
   "cell_type": "code",
   "execution_count": null,
   "id": "74edf6d7",
   "metadata": {},
   "outputs": [],
   "source": [
    "\n",
    "from sklearn.metrics import accuracy_score, confusion_matrix, precision_score, recall_score, classification_report\n",
    "\n",
    "# Perform predictions on the test set\n",
    "predictions = clf.predict(X_test)\n",
    "\n",
    "# Calculate accuracy score\n",
    "accuracy = accuracy_score(y_test, predictions)\n",
    "print(f\"Accuracy: {accuracy:.2f}\")\n",
    "\n",
    "# Generate confusion matrix\n",
    "conf_matrix = confusion_matrix(y_test, predictions)\n",
    "print(f\"Confusion Matrix:\\n{conf_matrix}\")\n",
    "\n",
    "# Calculate precision and recall scores\n",
    "precision = precision_score(y_test, predictions)\n",
    "recall = recall_score(y_test, predictions)\n",
    "print(f\"Precision: {precision:.2f}\")\n",
    "print(f\"Recall: {recall:.2f}\")\n",
    "\n",
    "# Generate classification report\n",
    "class_report = classification_report(y_test, predictions, target_names=['malignant', 'benign'])\n",
    "print(f\"Classification Report:\\n{class_report}\")\n"
   ]
  },
  {
   "cell_type": "code",
   "execution_count": null,
   "id": "d7b8acf3",
   "metadata": {},
   "outputs": [],
   "source": [
    "\n",
    "import matplotlib.pyplot as plt\n",
    "\n",
    "# Create feature importance plot\n",
    "feature_names = X.columns\n",
    "feature_importance = pd.DataFrame(clf.feature_importances_, index=feature_names).sort_values(0, ascending=False)\n",
    "\n",
    "# Plot the top 10 important features\n",
    "top_features = feature_importance.head(10)\n",
    "top_features.plot(kind='bar')\n",
    "plt.title('Top 10 Feature Importance')\n",
    "plt.ylabel('Importance')\n",
    "plt.show()\n"
   ]
  },
  {
   "cell_type": "code",
   "execution_count": null,
   "id": "6c049996",
   "metadata": {},
   "outputs": [],
   "source": [
    "\n",
    "from sklearn import tree\n",
    "import matplotlib.pyplot as plt\n",
    "\n",
    "# Visualize the decision tree\n",
    "plt.figure(figsize=(20,10))\n",
    "tree.plot_tree(clf, feature_names=feature_names, class_names=['Malignant', 'Benign'], filled=True, fontsize=10)\n",
    "plt.show()\n"
   ]
  }
 ],
 "metadata": {},
 "nbformat": 4,
 "nbformat_minor": 5
}